{
 "cells": [
  {
   "cell_type": "markdown",
   "id": "17330c18-4e62-442b-8f60-19726f352074",
   "metadata": {},
   "source": [
    "# Data Science Tools and Ecosystem"
   ]
  },
  {
   "cell_type": "markdown",
   "id": "3db12db2-4434-491d-987e-858034ceb057",
   "metadata": {},
   "source": [
    "This notebook provides an overview of Data Science Tools and Ecosystem."
   ]
  },
  {
   "cell_type": "markdown",
   "id": "4a079c21-ef52-4dc3-a38c-e78459dc02b4",
   "metadata": {},
   "source": [
    "Some of the popular languages that Data Scientists use are:\n",
    "1. Python\n",
    "2. R\n",
    "3. SQL\n",
    "4. Julia\n",
    "5. Java"
   ]
  },
  {
   "cell_type": "markdown",
   "id": "dd72f00a-48e6-486d-8893-b69860ddc014",
   "metadata": {},
   "source": [
    "Some of the commonly used libraries used by Data Scientists include:\n",
    "1. NumPy\n",
    "2. Pandas\n",
    "3. Matplotlib\n",
    "4. Scikit-learn\n",
    "5. TensorFlow"
   ]
  },
  {
   "cell_type": "markdown",
   "id": "5aee095e-5661-432c-8eaa-39901499f8f3",
   "metadata": {},
   "source": [
    "| Data Science Tools       |\n",
    "|--------------------------|\n",
    "| Jupyter Notebook          |\n",
    "| RStudio                   |\n",
    "| Apache Zeppelin            |"
   ]
  },
  {
   "cell_type": "markdown",
   "id": "4c3aa16d-8f70-447f-84f8-06e4049acea9",
   "metadata": {},
   "source": [
    "### Below are a few examples of evaluating arithmetic expressions in Python:"
   ]
  },
  {
   "cell_type": "code",
   "execution_count": 25,
   "id": "0d68301a-df9c-4f5a-8b8a-82937367e5ac",
   "metadata": {},
   "outputs": [
    {
     "name": "stdout",
     "output_type": "stream",
     "text": [
      "17\n"
     ]
    }
   ],
   "source": [
    "# This is a simple arithmetic expression to multiply then add integers\n",
    "result = (3 * 4) + 5\n",
    "print(result)"
   ]
  },
  {
   "cell_type": "markdown",
   "id": "65e4f3aa-fcfa-44fc-bd0f-0c15cd20a09c",
   "metadata": {},
   "source": [
    "**Objectives:**  \n",
    "- Summarize Data Science Tools and Ecosystem  \n",
    "- List popular languages for Data Science  \n",
    "- Describe common libraries used in Data Science  \n",
    "- Perform basic arithmetic operations in Python  \n",
    "- Convert minutes to hours using Python  "
   ]
  },
  {
   "cell_type": "markdown",
   "id": "026caf5d-d79e-4642-b9e4-2bfbdb56346a",
   "metadata": {},
   "source": [
    "## Author  \n",
    "OTHMAN MOHAMED ABDELMAKSOUD ABDELWAHED"
   ]
  },
  {
   "cell_type": "code",
   "execution_count": null,
   "id": "4298a8d1-83a1-40d6-ba7d-e4af722f2ae5",
   "metadata": {},
   "outputs": [],
   "source": []
  }
 ],
 "metadata": {
  "kernelspec": {
   "display_name": "Python [conda env:base] *",
   "language": "python",
   "name": "conda-base-py"
  },
  "language_info": {
   "codemirror_mode": {
    "name": "ipython",
    "version": 3
   },
   "file_extension": ".py",
   "mimetype": "text/x-python",
   "name": "python",
   "nbconvert_exporter": "python",
   "pygments_lexer": "ipython3",
   "version": "3.12.7"
  }
 },
 "nbformat": 4,
 "nbformat_minor": 5
}
